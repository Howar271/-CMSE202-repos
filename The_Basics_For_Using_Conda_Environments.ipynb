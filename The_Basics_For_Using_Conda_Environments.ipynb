{
 "cells": [
  {
   "cell_type": "markdown",
   "metadata": {},
   "source": [
    "# Using Conda Environments inside DECS Jupyterhub\n",
    "Written by Dirk Colbry April 14, 2016\n",
    "\n",
    "This notebook shows how to use conda environments on the DECS Jupyterhub server (http://jupyterhub.egr.msu.edu ). For instructions to set up conda environment kernels on your own server, please see the following website:\n",
    "\n",
    "https://github.com/Cadair/jupyter_environment_kernels\n",
    "\n",
    "One of the powerful things about Jupyter is that it is highly configurable for a wide variety of languages and libraries.  The Conda Environments kernels enables users of Jupyterhub to install their own software modules and interact with them directly in Jupyterhub.  More information about conda environments can be found here:\n",
    "\n",
    "http://conda.pydata.org/docs/using/envs.html\n"
   ]
  },
  {
   "cell_type": "markdown",
   "metadata": {},
   "source": [
    "Working with the conda requires sending commands to a terminal.  For this notebook, I am using Python 3 system command syntax.  However, you can also just use the JupyterHub \"Terminal\" window to run the same commands.  Just remove the exclamation point (!) at the beginning of the command which is the special character that lets Python submit system commands directly to the kernel. "
   ]
  },
  {
   "cell_type": "markdown",
   "metadata": {},
   "source": [
    "### Listing Installed Conda Environments\n",
    "The first command is just \"```conda info --envs```\" which lists all of your currently installed environments.  Most users just start off with the ```root``` environment."
   ]
  },
  {
   "cell_type": "code",
   "execution_count": null,
   "metadata": {
    "collapsed": false
   },
   "outputs": [],
   "source": [
    "!conda info --envs"
   ]
  },
  {
   "cell_type": "markdown",
   "metadata": {},
   "source": [
    "### Creating your first Conda Environments from Scratch\n",
    "To start a user will want to create a conda environments from scratch.  If you want this environment to work as a Jupyter environment you MUST include the Jupyter module when installing. The following example creates a Python installation with Jupyter and basic scientific modules such as numpy, matplotlib and scipy. Replace ```mypy_scratch``` with the name you want for your conda environment. ** NOTE: currently the name of your conda environment must be all lowercase letters. **\n",
    "\n",
    "This command can take a while...."
   ]
  },
  {
   "cell_type": "code",
   "execution_count": null,
   "metadata": {
    "collapsed": false
   },
   "outputs": [],
   "source": [
    "!conda create -y -n mypy_scratch jupyter numpy matplotlib scipy "
   ]
  },
  {
   "cell_type": "markdown",
   "metadata": {},
   "source": [
    "### Cloning an existing Conda Environments\n",
    "It is often helpful to clone an existing conda environments so you don't have to start over from scratch every time.   Use the next command to create an environment and clone all of the packages. Replace ```mypy_clone``` with the name you want for your new conda environment and replace ```mypy_scratch``` with the name of the environment you want to copy. ** NOTE: currently the name of your conda environment must be all lowercase letters. **\n",
    "\n",
    "This command can take a while...."
   ]
  },
  {
   "cell_type": "code",
   "execution_count": null,
   "metadata": {
    "collapsed": false
   },
   "outputs": [],
   "source": [
    "!conda create --name mypy_clone --clone mypy_scratch"
   ]
  },
  {
   "cell_type": "markdown",
   "metadata": {},
   "source": [
    "### Installing modules into your conda environment\n",
    "Now that you have an environment, you will want to install new modules.  There are lots of ways to install modules in python. Probably the best way is to use conda (assuming the module you need is available in conda). Here is an example to load ```openmm``` (a molecular modeling interface).\n",
    "\n",
    "**Conda Install:**"
   ]
  },
  {
   "cell_type": "code",
   "execution_count": null,
   "metadata": {
    "collapsed": false
   },
   "outputs": [],
   "source": [
    "!conda install --name mypy_clone -y -c omnia openmm"
   ]
  },
  {
   "cell_type": "markdown",
   "metadata": {},
   "source": [
    "Probably the second best way to install modules is to use ```pip```.  However this is a little more tricky since the default pip command will try to install your module in the default install. Trying to do this install will result in a permission design error. \n",
    "\n",
    "Instead we want to use the pip command associated with the environment. Use the following command and replace ```mypy_scratch``` in the path with the name of the environment where you want to install the module. \n",
    "\n",
    "**Pip Install:**"
   ]
  },
  {
   "cell_type": "code",
   "execution_count": null,
   "metadata": {
    "collapsed": false
   },
   "outputs": [],
   "source": [
    "!~/.conda/envs/mypy_clone/bin/pip install matplotlib-venn "
   ]
  },
  {
   "cell_type": "markdown",
   "metadata": {},
   "source": [
    "### Using Conda Environments in Jupyter\n",
    "Now comes the fun part.  You can now start new jupyter notebooks using your environment as the kernel or select a new kernel.  \n",
    "\n",
    "In order to see the environments listed as kernels you need to hit \"Refresh\" in your browser window. Once you hit refresh you should see the environments listed under the new menu:\n",
    "\n",
    "<img src=\"http://www.msu.edu/~colbrydi/env_menu.jpg\" />\n",
    "\n",
    "Or, if you already have a notebook open, you can \"change kernel\" inside the Kernel menu options. Again, make sure you hit refresh on in the browser.\n",
    "\n"
   ]
  },
  {
   "cell_type": "markdown",
   "metadata": {},
   "source": [
    "### Listing modules inside a Conda Environments\n",
    "The next command just lists all of the packages in an environment. To start, lets just see what is in the ```root``` environment."
   ]
  },
  {
   "cell_type": "code",
   "execution_count": null,
   "metadata": {
    "collapsed": false
   },
   "outputs": [],
   "source": [
    "!conda list --name mypy_clone"
   ]
  },
  {
   "cell_type": "markdown",
   "metadata": {
    "collapsed": false
   },
   "source": [
    "### Exporting a conda environment\n",
    "You can also export your conda environment as a Yaml file by using the following command.  This file can be used to save your environment and enable another person to create an exact copy of your environment."
   ]
  },
  {
   "cell_type": "code",
   "execution_count": null,
   "metadata": {
    "collapsed": false
   },
   "outputs": [],
   "source": [
    "!conda env export -n mypy_clone > cloned_env.yml"
   ]
  },
  {
   "cell_type": "markdown",
   "metadata": {},
   "source": [
    "### Removing a new Conda Environment\n",
    "Use the next command to remove a conda environment. Replace ```mypy``` with the name you want for your conda environment. ** NOTE: currenlty the name of your conda environment must be all lowercase letters. **\n",
    "\n",
    "This command can take a while...."
   ]
  },
  {
   "cell_type": "code",
   "execution_count": null,
   "metadata": {
    "collapsed": false
   },
   "outputs": [],
   "source": [
    "#Remove an environment\n",
    "!conda env remove -y -n opencv_env"
   ]
  },
  {
   "cell_type": "markdown",
   "metadata": {
    "collapsed": false
   },
   "source": [
    "### Importing a conda environment \n",
    "\n",
    "Not working for me. Seems that the create option does not call the individual pip and conda commands for installing non-existing modules. User may need to do this manually?\n",
    "\n",
    "If you already have a conda YAML file you can create an environment from the file using the following command"
   ]
  },
  {
   "cell_type": "code",
   "execution_count": null,
   "metadata": {
    "collapsed": false
   },
   "outputs": [],
   "source": [
    "!conda env create -f cloned_env.yml"
   ]
  },
  {
   "cell_type": "markdown",
   "metadata": {
    "collapsed": false
   },
   "source": [
    "### Cleaning up after conda\n",
    "\n",
    "The following directory will delete some temporary files when setting up conda environments.  These files may fill up your quota on the JupyterHub server."
   ]
  },
  {
   "cell_type": "code",
   "execution_count": null,
   "metadata": {
    "collapsed": false
   },
   "outputs": [],
   "source": [
    "!conda clean -y --all"
   ]
  },
  {
   "cell_type": "markdown",
   "metadata": {
    "collapsed": true
   },
   "source": [
    "(c) Michigan State University Board of Trustees"
   ]
  },
  {
   "cell_type": "code",
   "execution_count": null,
   "metadata": {
    "collapsed": true
   },
   "outputs": [],
   "source": []
  }
 ],
 "metadata": {
  "kernelspec": {
   "display_name": "Python 3",
   "language": "python",
   "name": "python3"
  },
  "language_info": {
   "codemirror_mode": {
    "name": "ipython",
    "version": 3
   },
   "file_extension": ".py",
   "mimetype": "text/x-python",
   "name": "python",
   "nbconvert_exporter": "python",
   "pygments_lexer": "ipython3",
   "version": "3.5.1"
  }
 },
 "nbformat": 4,
 "nbformat_minor": 1
}
