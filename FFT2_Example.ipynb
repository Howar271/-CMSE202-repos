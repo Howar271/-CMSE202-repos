{
 "cells": [
  {
   "cell_type": "markdown",
   "metadata": {
    "slideshow": {
     "slide_type": "-"
    }
   },
   "source": [
    "# 2D Fourier Transform for image analysis\n",
    "written by Dirk Colbry\n",
    "This example shows how to make a FFT transform of 2D images.  "
   ]
  },
  {
   "cell_type": "code",
   "execution_count": null,
   "metadata": {
    "collapsed": false
   },
   "outputs": [],
   "source": [
    "#Pick a temporary filename (Currently only works for jpg images)\n",
    "filename=\"image.jpg\"\n",
    "\n",
    "#Pick a URL with the image of interest.\n",
    "URL=\"https://upload.wikimedia.org/wikipedia/commons/a/a2/MSU_Beaumont_Tower_1.jpg\"\n",
    "#URL=\"http://msutoday.msu.edu/_/img/assets/2013/sparty-in-stadium.jpg\"\n",
    "#URL=\"http://img.autobytel.com/car-reviews/autobytel/11694-good-looking-sports-cars/2016-Ford-Mustang-GT-burnout-red-tire-smoke.jpg\"\n",
    "#URL=\"http://broadmuseum.msu.edu/sites/default/files/20121106KAS9719_0.jpg\"\n",
    "#URL=\"https://upload.wikimedia.org/wikipedia/commons/0/03/MSU_Spartan_Stadium_Facade.jpg\"\n",
    "#URL=\"http://www.tirerack.com/images/tires/bfg/bfg_traction_ta_t_ci1_l.jpg\""
   ]
  },
  {
   "cell_type": "code",
   "execution_count": null,
   "metadata": {
    "collapsed": false
   },
   "outputs": [],
   "source": [
    "#Download the image\n",
    "from urllib.request import urlretrieve\n",
    "urlretrieve(URL,filename)"
   ]
  },
  {
   "cell_type": "code",
   "execution_count": null,
   "metadata": {
    "collapsed": false
   },
   "outputs": [],
   "source": [
    "#Read and display the image\n",
    "%matplotlib inline\n",
    "import matplotlib.pyplot as plt\n",
    "from PIL import Image\n",
    "\n",
    "im = Image.open(filename)\n",
    "plt.imshow(im)\n",
    "type(im)"
   ]
  },
  {
   "cell_type": "code",
   "execution_count": null,
   "metadata": {
    "collapsed": false
   },
   "outputs": [],
   "source": [
    "#show the read/green/blue channels of the image\n",
    "import numpy as np\n",
    "plt.figure(figsize=(20,10))\n",
    "pix = np.array(im)\n",
    "#plt.imshow(pix)\n",
    "plt.subplot(1,3,1)\n",
    "plt.imshow(pix[:,:,0], cmap=plt.cm.gray)\n",
    "plt.title(\"Red\")\n",
    "plt.grid('off')\n",
    "plt.subplot(1,3,2)\n",
    "plt.imshow(pix[:,:,2], cmap=plt.cm.gray)\n",
    "plt.title(\"Green\")\n",
    "plt.grid('off')\n",
    "plt.subplot(1,3,3)\n",
    "plt.imshow(pix[:,:,2], cmap=plt.cm.gray)\n",
    "plt.title(\"Blue\")\n",
    "plt.grid('off')\n",
    "#pix.shape\n",
    "\n"
   ]
  },
  {
   "cell_type": "code",
   "execution_count": null,
   "metadata": {
    "collapsed": false
   },
   "outputs": [],
   "source": [
    "#Convert to a grayscale image\n",
    "#Oddly, I could not find a rgb2gray function insize of numpy or PIL. \n",
    "#I did find it in skimage  (scikit image)\n",
    "#I could also have just written it (it's a simple function)\n",
    "from skimage import color\n",
    "gray = color.rgb2gray(pix);\n",
    "plt.imshow(gray, cmap=plt.cm.gray)"
   ]
  },
  {
   "cell_type": "code",
   "execution_count": null,
   "metadata": {
    "collapsed": false
   },
   "outputs": [],
   "source": [
    "#Calculate the 2D FFT \n",
    "Fs = np.fft.fft2(gray)\n",
    "\n",
    "#(Hard to visualize -- scaling is all off)\n",
    "plt.imshow(np.abs(Fs))"
   ]
  },
  {
   "cell_type": "code",
   "execution_count": null,
   "metadata": {
    "collapsed": false
   },
   "outputs": [],
   "source": [
    "#Make it easier to visualize the FFT\n",
    "\n",
    "#Shifts highest frequencies to center instead of corners.\n",
    "F2 = np.fft.fftshift( Fs ) \n",
    "\n",
    "#Makes the Fourier space easier to see.\n",
    "psd2D = np.abs( F2 )**2 \n",
    "\n",
    "#Display the results\n",
    "plt.imshow( np.log10( psd2D ))"
   ]
  },
  {
   "cell_type": "markdown",
   "metadata": {
    "collapsed": true
   },
   "source": [
    "&#169; Copyright 2016,  Michigan State University Board of Trustees"
   ]
  }
 ],
 "metadata": {
  "anaconda-cloud": {},
  "kernelspec": {
   "display_name": "Python 3",
   "language": "python",
   "name": "python3"
  },
  "language_info": {
   "codemirror_mode": {
    "name": "ipython",
    "version": 3
   },
   "file_extension": ".py",
   "mimetype": "text/x-python",
   "name": "python",
   "nbconvert_exporter": "python",
   "pygments_lexer": "ipython3",
   "version": "3.5.1"
  }
 },
 "nbformat": 4,
 "nbformat_minor": 1
}
