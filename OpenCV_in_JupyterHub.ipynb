{
 "cells": [
  {
   "cell_type": "markdown",
   "metadata": {},
   "source": [
    "# Installing and using OpenCV in JupyterHub\n",
    "Written by Dirk Colbry May 10, 2016\n",
    "\n",
    "This notebook shows how to install OpenCV using conda environments for Jupyter."
   ]
  },
  {
   "cell_type": "markdown",
   "metadata": {},
   "source": [
    "### Step 1: Create a new OpenCV conda Environment\n",
    "To start a user will want to create a conda environments from scratch.  The following example creates a Python installation with Jupyter and basic scientific modules such as numpy, matplotlib and scipy. This example also includes OpenCV.  The name of the new conda environment will be opencv_env ** NOTE: currently the name of your conda environment must be all lowercase letters with no punctuation or spaces. **\n",
    "\n",
    "This command can take a while....\n",
    "\n",
    "Note this will generate a python2 instance because opencv is not yet for prime time on python3"
   ]
  },
  {
   "cell_type": "code",
   "execution_count": null,
   "metadata": {
    "collapsed": false
   },
   "outputs": [],
   "source": [
    "!conda create -y -n opencv_env python=2 jupyter numpy matplotlib scipy opencv pil"
   ]
  },
  {
   "cell_type": "markdown",
   "metadata": {},
   "source": [
    "### Step 2: Listing Installed Conda Environments\n",
    "Next, lets check if the  \"```conda info --envs```\" which lists all of your currently installed environments.  You should see both the ```root``` environment and the ```opencv_env``` environment"
   ]
  },
  {
   "cell_type": "code",
   "execution_count": null,
   "metadata": {
    "collapsed": false
   },
   "outputs": [],
   "source": [
    "!conda info --envs"
   ]
  },
  {
   "cell_type": "markdown",
   "metadata": {},
   "source": [
    "### Step 3: Refresh your browser window\n",
    "Once the above command is done, you will need to \"Refresh\" your browser window. This refresh will force Jupyter to add the new environment to your list of environments.\n"
   ]
  },
  {
   "cell_type": "markdown",
   "metadata": {},
   "source": [
    "### Step 4: Testing the new OpenCV_env in Jupyter\n",
    "Now comes the fun part.  Go to the \"Kernel\" menu, select the \"Change Kernel\" option and pick your newly created Kernel; it should be called \"Environment (opencv_env)\".\n",
    "\n",
    "A \"Connecting to Kernel\" box will appear in the upper right hand corner of the interface.  This box will change to \"Kernel starting, please wait...\"\n",
    "\n",
    "And wait...\n",
    "\n",
    "If this takes a really long time to change. Go to the \"Kernel\" menu and select \"Restart.\" \n",
    "\n",
    "----------------------------------------------------------"
   ]
  },
  {
   "cell_type": "markdown",
   "metadata": {},
   "source": [
    "### Step 4: Test OpenCV by importing cv2\n",
    "We are now ready to test and use OpenCV.  To test it just run the python \"import cv2\" command (and a few others)."
   ]
  },
  {
   "cell_type": "code",
   "execution_count": null,
   "metadata": {
    "collapsed": false
   },
   "outputs": [],
   "source": [
    "%matplotlib inline\n",
    "import matplotlib.pyplot as plt\n",
    "import cv2"
   ]
  },
  {
   "cell_type": "markdown",
   "metadata": {},
   "source": [
    "**NOTE:** If the above command seems to take a long time (more than 20 seconds) you may need to save the notebook, exit the notebook completely by going to \"File\"->\"Close and Halt\" and then reopen the notebook, skip to Step 4 and try again. "
   ]
  },
  {
   "cell_type": "markdown",
   "metadata": {
    "collapsed": false
   },
   "source": [
    "### Lets do something interesting with OpenCV to make sure it is really working:\n",
    "\n",
    "First, Lets grab an image from the internet to use in our example:"
   ]
  },
  {
   "cell_type": "code",
   "execution_count": null,
   "metadata": {
    "collapsed": false
   },
   "outputs": [],
   "source": [
    "import urllib\n",
    "\n",
    "url = 'http://msu.edu/~alberyma/Website/web%20template/22353_JEA_FEA_Sparty_080707.jpg'\n",
    "new_filename = 'sparty.jpg'\n",
    "\n",
    "f = open(new_filename,'wb')\n",
    "f.write(urllib.urlopen(url).read())\n",
    "f.close()"
   ]
  },
  {
   "cell_type": "markdown",
   "metadata": {},
   "source": [
    "Next, lets do something with opencv"
   ]
  },
  {
   "cell_type": "code",
   "execution_count": null,
   "metadata": {
    "collapsed": false
   },
   "outputs": [],
   "source": [
    "im = cv2.imread(new_filename)\n",
    "edges = cv2.Canny(im,100,200)\n",
    "\n",
    "\n",
    "plt.figure(figsize=(20,10))\n",
    "plt.subplot(121),plt.imshow(im,cmap = 'gray')\n",
    "plt.title('Original Image'), plt.xticks([]), plt.yticks([])\n",
    "plt.subplot(122),plt.imshow(edges,cmap = 'gray')\n",
    "plt.title('Edge Image'), plt.xticks([]), plt.yticks([])"
   ]
  },
  {
   "cell_type": "code",
   "execution_count": null,
   "metadata": {
    "collapsed": false
   },
   "outputs": [],
   "source": [
    "#Comment out the following line to remove the environment (Helpful when debugging this notebook)\n",
    "# Make sure you connect to a Python3 kernel before running this command. I am not sure what will \n",
    "# happen if you delete a kernel from inside a notebook trying to run a kernel\n",
    "#!conda clean -y --all\n",
    "#!conda env remove -y -n opencv_env"
   ]
  },
  {
   "cell_type": "markdown",
   "metadata": {
    "collapsed": true
   },
   "source": [
    "&#169; Copyright,  Michigan State University Board of Trustees"
   ]
  }
 ],
 "metadata": {
  "kernelspec": {
   "display_name": "Environment (opencv_env)",
   "language": "",
   "name": "opencv_env"
  },
  "language_info": {
   "codemirror_mode": {
    "name": "ipython",
    "version": 2
   },
   "file_extension": ".py",
   "mimetype": "text/x-python",
   "name": "python",
   "nbconvert_exporter": "python",
   "pygments_lexer": "ipython2",
   "version": "2.7.11"
  }
 },
 "nbformat": 4,
 "nbformat_minor": 1
}
