{
 "cells": [
  {
   "cell_type": "markdown",
   "metadata": {},
   "source": [
    "Table create by Jeremy Roth (2016)\n",
    "\n",
    "| |List|Dictionary|Set|Tuple|NumPy Array|\n",
    "|---|---|---|---|---|---|---|\n",
    "|**Mutable or Immutable**|Mutable|Mutable|Mutable<sup>1</sup>|Immutable|Mutable|\n",
    "|**Initialization *Without* Values**|<ul><li>`l=list()`</li><li>`l=[]`</li></ul>|<ul><li>`d=dict()`</li><li>`d={}`</li></ul>|`s=set()`|<ul><li>`t=tuple()`</li><li>`t=()`</li></ul>|`n=np.array([])`|\n",
    "|**Initialization *With* Values**|`l=['1','2','3']`|`d={'name':'John','age':22}`|<ul><li>`s=set(['a','b','c'])`</li><li>`s={'a','b','c'}`</li></ul>|`t=('Hello','Goodbye')`<sup>2</sup>|`n=np.array([1,2,3])`|\n",
    "|**Adding Values to Container**|<ul><li>`l.append(item)`<sup>3</sup></li><li>`l.insert(index, item)`<sup>4</sup></li></ul>|`d['newKey'] = newItem`<sup>5</sup>|`s.add(item)`|N/A<sup>6</sup>|<ul><li>`np.insert(n,index,value,axis)`<sup>7</sup></li><li>`np.append(n,value,axis)`<sup>8</sup></li></ul>|\n",
    "|**Removing Values from Container**|`l.remove(item)`<sup>9</sup>|`del d[KeyName]`<sup>10</sup>|<ul><li>`set.discard(item)`<sup>11</sup></li><li>`set.remove(item)`<sup>12</sup></li><li>`set.pop()`<sup>13</sup></li></ul>|N/A|`np.delete(arrayName,slice/int/array of ints,axis)`<sup>14</sup>|\n",
    "|**Access Method**|`l[index]`|`d['key']`|N/A <sup>15</sup>|`t[index]`|`n[index]`\n",
    "|**Modifying Values**|`l[index] = newItem`|`d['key'] = newValue`|N/A<sup>16</sup>|N/A|`n[index] = newValue`|\n",
    "<br>\n",
    "<ol>\n",
    "    <li> Sets are mutable, however the objects contained within a set **must** be immutable.</li>\n",
    "    <li>This syntax is appropriate for a tuple with more than 1 item. You create a 1-tuple by placing a comma after the element in the tuple. If you do not include the comma, the value will not be interpretted as a tuple.</li>\n",
    "    <li>Adds item to the end of the list.</li>\n",
    "    <li>Adds item to the specified index in the list</li>\n",
    "    <li>Creates a new key-value pair. See below for example.</li>\n",
    "    <li>While you cannot add values to a pre-existing tuples, you can \"add\" two tuples together to create a new tuple. See below for example.</li>\n",
    "    <li>Inserts the given value into the array at the specified index and axis. See below for example.</li>\n",
    "    <li>Appends the given value onto the end of the array.</li>\n",
    "    <li>Removes the first instance of 'item' from the list. If theere is no such element, this will raise an error.</li>\n",
    "    <li>This method removes all entries associtaed with the given key.</li>\n",
    "    <li>If 'item' is in the set, the item is removed, otherwise nothing happens.</li>\n",
    "    <li>If 'item' is in the set, the item is removed, otherwise it will raise a `KeyError`.</li>\n",
    "    <li>This method removes and returns an arbitrary element from set (remember sets are unordered). If the set is empty, it will raise a `KeyError`.</li>\n",
    "    <li>Returns a new array with the given inex or array of indices deleted on the given axis. See below for example.</li>\n",
    "    <li>Sets are unordered, therefore indexing does not mean anything. To modify a set, you must directly add or remove elements.</li>\n",
    "    <li>You cannot modify individual values in a set, however there are many set operations that are useful. Some examples are shown below.</li>\n",
    "</ol>\n",
    "\n"
   ]
  },
  {
   "cell_type": "markdown",
   "metadata": {},
   "source": [
    "# Examples"
   ]
  },
  {
   "cell_type": "markdown",
   "metadata": {},
   "source": [
    "## Dictionaries"
   ]
  },
  {
   "cell_type": "markdown",
   "metadata": {
    "collapsed": true
   },
   "source": [
    "### Creating a New Key-Value Pair <sup>5</sup>"
   ]
  },
  {
   "cell_type": "code",
   "execution_count": null,
   "metadata": {
    "collapsed": false
   },
   "outputs": [],
   "source": [
    "student = {'name': 'John Doe', 'age': 12, 'college': 'MSU'}\n",
    "student"
   ]
  },
  {
   "cell_type": "code",
   "execution_count": null,
   "metadata": {
    "collapsed": false
   },
   "outputs": [],
   "source": [
    "student['major'] = 'Computer Science'\n",
    "student"
   ]
  },
  {
   "cell_type": "markdown",
   "metadata": {},
   "source": [
    "## Sets"
   ]
  },
  {
   "cell_type": "markdown",
   "metadata": {
    "collapsed": true
   },
   "source": [
    "### Common Set Operations <sup>16</sup>"
   ]
  },
  {
   "cell_type": "code",
   "execution_count": null,
   "metadata": {
    "collapsed": false
   },
   "outputs": [],
   "source": [
    "a = {1,2,3,7,4,5}\n",
    "b = {8,2,5,7,9,3}"
   ]
  },
  {
   "cell_type": "markdown",
   "metadata": {},
   "source": [
    "#### Intersection: a resulting set has elements that are common to both source sets"
   ]
  },
  {
   "cell_type": "code",
   "execution_count": null,
   "metadata": {
    "collapsed": false
   },
   "outputs": [],
   "source": [
    "a & b"
   ]
  },
  {
   "cell_type": "markdown",
   "metadata": {},
   "source": [
    "#### Difference: the resulting set has elements unique to the left-hand set with all elments from the right hand set removed."
   ]
  },
  {
   "cell_type": "code",
   "execution_count": null,
   "metadata": {
    "collapsed": false
   },
   "outputs": [],
   "source": [
    "a - b"
   ]
  },
  {
   "cell_type": "code",
   "execution_count": null,
   "metadata": {
    "collapsed": false
   },
   "outputs": [],
   "source": [
    "b - a"
   ]
  },
  {
   "cell_type": "markdown",
   "metadata": {},
   "source": [
    "#### Symmetric Difference: the resulting set has elements which are unique to each set."
   ]
  },
  {
   "cell_type": "code",
   "execution_count": null,
   "metadata": {
    "collapsed": false
   },
   "outputs": [],
   "source": [
    "a ^ b"
   ]
  },
  {
   "cell_type": "markdown",
   "metadata": {},
   "source": [
    "## Tuples"
   ]
  },
  {
   "cell_type": "markdown",
   "metadata": {
    "collapsed": true
   },
   "source": [
    "### Modifying Tuples <sup>6</sup>"
   ]
  },
  {
   "cell_type": "code",
   "execution_count": null,
   "metadata": {
    "collapsed": false
   },
   "outputs": [],
   "source": [
    "t1 = ('Hello',)\n",
    "t2 = ('a','b','c')\n",
    "t3 = t1 + t2\n",
    "t3"
   ]
  },
  {
   "cell_type": "markdown",
   "metadata": {},
   "source": [
    "## NumPy Arrays"
   ]
  },
  {
   "cell_type": "markdown",
   "metadata": {},
   "source": [
    "### Run this cell to run the NumPy Examples"
   ]
  },
  {
   "cell_type": "code",
   "execution_count": null,
   "metadata": {
    "collapsed": true
   },
   "outputs": [],
   "source": [
    "import numpy as np\n",
    "\n",
    "#Used in 1-d array examples\n",
    "array1 = np.array([1, 2, 3, 4, 5])\n",
    "\n",
    "#Used in multi-dimensional array examples\n",
    "array2 = np.array([[1, 2, 3], [4, 5, 6], [7, 8, 9], [10, 11, 12]])"
   ]
  },
  {
   "cell_type": "markdown",
   "metadata": {
    "collapsed": true
   },
   "source": [
    "### Inserting Values into a NumPy Array <sup>7</sup>"
   ]
  },
  {
   "cell_type": "markdown",
   "metadata": {
    "collapsed": false
   },
   "source": [
    "#### 1-D NumPy Array"
   ]
  },
  {
   "cell_type": "code",
   "execution_count": null,
   "metadata": {
    "collapsed": false
   },
   "outputs": [],
   "source": [
    "array1"
   ]
  },
  {
   "cell_type": "code",
   "execution_count": null,
   "metadata": {
    "collapsed": false
   },
   "outputs": [],
   "source": [
    "np.insert(a1, 4, 12)"
   ]
  },
  {
   "cell_type": "code",
   "execution_count": null,
   "metadata": {
    "collapsed": false
   },
   "outputs": [],
   "source": [
    "np.insert(array1, 3, [10, 11])"
   ]
  },
  {
   "cell_type": "markdown",
   "metadata": {},
   "source": [
    "#### 2D NumPy Array"
   ]
  },
  {
   "cell_type": "code",
   "execution_count": null,
   "metadata": {
    "collapsed": false
   },
   "outputs": [],
   "source": [
    "array2"
   ]
  },
  {
   "cell_type": "code",
   "execution_count": null,
   "metadata": {
    "collapsed": false
   },
   "outputs": [],
   "source": [
    "#Note that if no axis is specified for a 2-D array, the array is flattened first.\n",
    "np.insert(array2, 1, 10)"
   ]
  },
  {
   "cell_type": "code",
   "execution_count": null,
   "metadata": {
    "collapsed": false
   },
   "outputs": [],
   "source": [
    "np.insert(array2, 1, 10, 0)"
   ]
  },
  {
   "cell_type": "code",
   "execution_count": null,
   "metadata": {
    "collapsed": false
   },
   "outputs": [],
   "source": [
    "np.insert(array2, 1, 10, 1)"
   ]
  },
  {
   "cell_type": "markdown",
   "metadata": {},
   "source": [
    "### Appending Values onto a NumPy Array <sup>8</sup>"
   ]
  },
  {
   "cell_type": "markdown",
   "metadata": {},
   "source": [
    "#### 1-D NumPy Array"
   ]
  },
  {
   "cell_type": "code",
   "execution_count": null,
   "metadata": {
    "collapsed": false
   },
   "outputs": [],
   "source": [
    "array1"
   ]
  },
  {
   "cell_type": "code",
   "execution_count": null,
   "metadata": {
    "collapsed": false
   },
   "outputs": [],
   "source": [
    "np.append(array1, 3)"
   ]
  },
  {
   "cell_type": "markdown",
   "metadata": {},
   "source": [
    "#### 2-D NumPy Array"
   ]
  },
  {
   "cell_type": "code",
   "execution_count": null,
   "metadata": {
    "collapsed": false
   },
   "outputs": [],
   "source": [
    "array2"
   ]
  },
  {
   "cell_type": "code",
   "execution_count": null,
   "metadata": {
    "collapsed": false
   },
   "outputs": [],
   "source": [
    "#Note that if no axis is specified for a 2-D array, the array is flattened first.\n",
    "np.append(array2, 3)"
   ]
  },
  {
   "cell_type": "code",
   "execution_count": null,
   "metadata": {
    "collapsed": false
   },
   "outputs": [],
   "source": [
    "#Note that if an axis is specified for a 2-D array, the dimensions of the appeneded value must match the array.\n",
    "np.append(array2, [[13, 14, 15]], 0)"
   ]
  },
  {
   "cell_type": "markdown",
   "metadata": {},
   "source": [
    "### Removing Values from NumPy Array <sup>14</sup>"
   ]
  },
  {
   "cell_type": "markdown",
   "metadata": {},
   "source": [
    "#### Removing by Index"
   ]
  },
  {
   "cell_type": "code",
   "execution_count": null,
   "metadata": {
    "collapsed": false
   },
   "outputs": [],
   "source": [
    "np.delete(array2, 2, 0)"
   ]
  },
  {
   "cell_type": "code",
   "execution_count": null,
   "metadata": {
    "collapsed": false
   },
   "outputs": [],
   "source": [
    "np.delete(array2, 2, 1)"
   ]
  },
  {
   "cell_type": "markdown",
   "metadata": {},
   "source": [
    "#### Removing by Array of Indices"
   ]
  },
  {
   "cell_type": "code",
   "execution_count": null,
   "metadata": {
    "collapsed": false
   },
   "outputs": [],
   "source": [
    "np.delete(array2, [1, 2], 0)"
   ]
  },
  {
   "cell_type": "code",
   "execution_count": null,
   "metadata": {
    "collapsed": false
   },
   "outputs": [],
   "source": [
    "np.delete(array2, [1, 2], 1)"
   ]
  },
  {
   "cell_type": "markdown",
   "metadata": {},
   "source": [
    "#### Removing by Slice"
   ]
  },
  {
   "cell_type": "code",
   "execution_count": null,
   "metadata": {
    "collapsed": false
   },
   "outputs": [],
   "source": [
    "np.delete(array2, np.s_[::2], 0)"
   ]
  },
  {
   "cell_type": "code",
   "execution_count": null,
   "metadata": {
    "collapsed": false
   },
   "outputs": [],
   "source": [
    "np.delete(array2, np.s_[::2], 1)"
   ]
  }
 ],
 "metadata": {
  "anaconda-cloud": {},
  "kernelspec": {
   "display_name": "Python 3",
   "language": "python",
   "name": "python3"
  },
  "language_info": {
   "codemirror_mode": {
    "name": "ipython",
    "version": 3
   },
   "file_extension": ".py",
   "mimetype": "text/x-python",
   "name": "python",
   "nbconvert_exporter": "python",
   "pygments_lexer": "ipython3",
   "version": "3.5.2"
  }
 },
 "nbformat": 4,
 "nbformat_minor": 1
}
