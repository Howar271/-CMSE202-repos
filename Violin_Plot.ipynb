{
 "cells": [
  {
   "cell_type": "code",
   "execution_count": null,
   "metadata": {
    "collapsed": false
   },
   "outputs": [],
   "source": [
    "%matplotlib inline\n",
    "\"\"\"\n",
    "Demo of the new violinplot functionality\n",
    "\"\"\"\n",
    "\n",
    "import random\n",
    "import numpy as np\n",
    "import matplotlib.pyplot as plt\n",
    "\n",
    "# fake data\n",
    "fs = 10  # fontsize\n",
    "pos = [1, 2, 4, 5, 7, 8]\n",
    "data = [np.random.normal(size=100) for i in pos]\n",
    "\n",
    "fig, axes = plt.subplots(nrows=2, ncols=3, figsize=(6, 6))\n",
    "\n",
    "axes[0, 0].violinplot(data, pos, points=20, widths=0.1,\n",
    "                      showmeans=True, showextrema=True, showmedians=True)\n",
    "axes[0, 0].set_title('Custom violinplot 1', fontsize=fs)\n",
    "\n",
    "axes[0, 1].violinplot(data, pos, points=40, widths=0.3,\n",
    "                      showmeans=True, showextrema=True, showmedians=True,\n",
    "                      bw_method='silverman')\n",
    "axes[0, 1].set_title('Custom violinplot 2', fontsize=fs)\n",
    "\n",
    "axes[0, 2].violinplot(data, pos, points=60, widths=0.5, showmeans=True,\n",
    "                      showextrema=True, showmedians=True, bw_method=0.5)\n",
    "axes[0, 2].set_title('Custom violinplot 3', fontsize=fs)\n",
    "\n",
    "axes[1, 0].violinplot(data, pos, points=80, vert=False, widths=0.7,\n",
    "                      showmeans=True, showextrema=True, showmedians=True)\n",
    "axes[1, 0].set_title('Custom violinplot 4', fontsize=fs)\n",
    "\n",
    "axes[1, 1].violinplot(data, pos, points=100, vert=False, widths=0.9,\n",
    "                      showmeans=True, showextrema=True, showmedians=True,\n",
    "                      bw_method='silverman')\n",
    "axes[1, 1].set_title('Custom violinplot 5', fontsize=fs)\n",
    "\n",
    "axes[1, 2].violinplot(data, pos, points=200, vert=False, widths=1.1,\n",
    "                      showmeans=True, showextrema=True, showmedians=True,\n",
    "                      bw_method=0.5)\n",
    "axes[1, 2].set_title('Custom violinplot 6', fontsize=fs)\n",
    "\n",
    "for ax in axes.flatten():\n",
    "    ax.set_yticklabels([])\n",
    "\n",
    "fig.suptitle(\"Violin Plotting Examples\")\n",
    "fig.subplots_adjust(hspace=0.4)\n",
    "plt.show()"
   ]
  },
  {
   "cell_type": "code",
   "execution_count": null,
   "metadata": {
    "collapsed": true
   },
   "outputs": [],
   "source": []
  }
 ],
 "metadata": {
  "kernelspec": {
   "display_name": "Python 3",
   "language": "python",
   "name": "python3"
  },
  "language_info": {
   "codemirror_mode": {
    "name": "ipython",
    "version": 3
   },
   "file_extension": ".py",
   "mimetype": "text/x-python",
   "name": "python",
   "nbconvert_exporter": "python",
   "pygments_lexer": "ipython3",
   "version": "3.5.1"
  }
 },
 "nbformat": 4,
 "nbformat_minor": 1
}
