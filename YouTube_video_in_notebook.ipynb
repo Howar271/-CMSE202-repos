{
 "cells": [
  {
   "cell_type": "markdown",
   "metadata": {},
   "source": [
    "#  YouTube Video in Jupyter Notebooks\n",
    "\n",
    "Here are a couple of examples on how to embed YouTube video in Jupyter notebooks.  This example usees Python3."
   ]
  },
  {
   "cell_type": "code",
   "execution_count": null,
   "metadata": {
    "collapsed": true
   },
   "outputs": [],
   "source": [
    "# The command below this comment imports the functionality that we need to display \n",
    "# YouTube videos in a Jupyter Notebook.  You need to run this cell before you\n",
    "# run ANY of the YouTube videos.\n",
    "\n",
    "from IPython.display import YouTubeVideo"
   ]
  },
  {
   "cell_type": "code",
   "execution_count": null,
   "metadata": {
    "collapsed": false
   },
   "outputs": [],
   "source": [
    "# the command below this comment actually displays a specific YouTube video,  \n",
    "# with a given width and height.  You can watch the video in full-screen (much higher\n",
    "# resolution) mode by clicking the little box in the bottom-right corner of the video.\n",
    "\n",
    "YouTubeVideo(\"L03BzGmLUUE\",width=640,height=360)"
   ]
  },
  {
   "cell_type": "code",
   "execution_count": null,
   "metadata": {
    "collapsed": false
   },
   "outputs": [],
   "source": [
    "YouTubeVideo(\"U3952mt2BpI\",width=640,height=360)"
   ]
  }
 ],
 "metadata": {
  "kernelspec": {
   "display_name": "Python 3",
   "language": "python",
   "name": "python3"
  },
  "language_info": {
   "codemirror_mode": {
    "name": "ipython",
    "version": 3
   },
   "file_extension": ".py",
   "mimetype": "text/x-python",
   "name": "python",
   "nbconvert_exporter": "python",
   "pygments_lexer": "ipython3",
   "version": "3.5.1"
  }
 },
 "nbformat": 4,
 "nbformat_minor": 1
}
