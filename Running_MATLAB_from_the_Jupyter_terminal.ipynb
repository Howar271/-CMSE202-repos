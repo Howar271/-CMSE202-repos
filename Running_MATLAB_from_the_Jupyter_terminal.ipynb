{
 "cells": [
  {
   "cell_type": "markdown",
   "metadata": {},
   "source": [
    "# Running MATLAB from the Jupyter terminal\n",
    "\n",
    "Although, running MATLAB in Jupyter notebooks should be fine for most classwork. It is sometimes helpful to test your scripts directly inside MATLAB.  The think to note is that none of the plotting commands will work from the command line since there is no active display\n",
    "\n",
    "Since MATLAB is already installed on the Engineering Jupyter instance, you can run MATLAB from the Jupyter terminal command line using the following steps:\n",
    "\n",
    "</p>\n",
    "\n",
    "1. First you need to locate MATLAB in the path.  Last I checked, the path for MATLAB is in /matlab/bin/.  \n",
    "\n",
    "2. You can then run MATLAB using the full path as follows.  Note: you use the \"-nodisplay\" option to prevent MATLAB from looking for an active graphical display and returning an error.   \n",
    "\n",
    "<code>/matlab/bin/matlab -nodisplay\n",
    "\n",
    "3. You can also add this directory to your path using the following command and avoid typing /matlab/bin all the time and just type matlab -nodisplay:\n",
    "\n",
    "<code>export PATH=/matlab/bin:${PATH}</code>\n",
    "<code>matlab -nodispaly</code>\n",
    "\n",
    "4. You can also add the above export command to your .bashrc file and it will add the /matlab/bin to your path every time you start a new terminal.\n"
   ]
  },
  {
   "cell_type": "code",
   "execution_count": null,
   "metadata": {
    "collapsed": false
   },
   "outputs": [],
   "source": []
  }
 ],
 "metadata": {
  "kernelspec": {
   "display_name": "Matlab",
   "language": "matlab",
   "name": "matlab"
  },
  "language_info": {
   "file_extension": ".m",
   "help_links": [
    {
     "text": "MetaKernel Magics",
     "url": "https://github.com/calysto/metakernel/blob/master/metakernel/magics/README.md"
    }
   ],
   "mimetype": "text/x-octave",
   "name": "matlab",
   "version": "0.9.2"
  }
 },
 "nbformat": 4,
 "nbformat_minor": 1
}
